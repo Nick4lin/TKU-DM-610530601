{
 "cells": [
  {
   "cell_type": "code",
   "execution_count": 1,
   "id": "b2ee701d",
   "metadata": {},
   "outputs": [
    {
     "name": "stdout",
     "output_type": "stream",
     "text": [
      "Requirement already satisfied: pandas in d:\\anaconda3\\envs\\dm\\lib\\site-packages (1.5.0)\n",
      "Requirement already satisfied: pytz>=2020.1 in d:\\anaconda3\\envs\\dm\\lib\\site-packages (from pandas) (2022.4)\n",
      "Requirement already satisfied: numpy>=1.20.3 in d:\\anaconda3\\envs\\dm\\lib\\site-packages (from pandas) (1.23.3)\n",
      "Requirement already satisfied: python-dateutil>=2.8.1 in d:\\anaconda3\\envs\\dm\\lib\\site-packages (from pandas) (2.8.2)\n",
      "Requirement already satisfied: six>=1.5 in d:\\anaconda3\\envs\\dm\\lib\\site-packages (from python-dateutil>=2.8.1->pandas) (1.16.0)\n",
      "Note: you may need to restart the kernel to use updated packages.\n"
     ]
    }
   ],
   "source": [
    "pip install pandas"
   ]
  },
  {
   "cell_type": "code",
   "execution_count": 3,
   "id": "83a172bd",
   "metadata": {},
   "outputs": [],
   "source": [
    "import pandas as pd"
   ]
  },
  {
   "cell_type": "code",
   "execution_count": 7,
   "id": "88b1c2c3",
   "metadata": {},
   "outputs": [
    {
     "data": {
      "text/plain": [
       "<module 'pandas' from 'D:\\\\anaconda3\\\\envs\\\\DM\\\\lib\\\\site-packages\\\\pandas\\\\__init__.py'>"
      ]
     },
     "execution_count": 7,
     "metadata": {},
     "output_type": "execute_result"
    }
   ],
   "source": [
    "pd"
   ]
  },
  {
   "cell_type": "code",
   "execution_count": 8,
   "id": "688a8f4a",
   "metadata": {},
   "outputs": [
    {
     "name": "stdout",
     "output_type": "stream",
     "text": [
      "0    1\n",
      "1    2\n",
      "2    3\n",
      "3    4\n",
      "4    5\n",
      "dtype: int64\n",
      "[1 2 3 4 5]\n",
      "RangeIndex(start=0, stop=5, step=1)\n"
     ]
    }
   ],
   "source": [
    "hipandas = pd.Series([1, 2, 3, 4, 5])\n",
    "print(hipandas)           #顯示Series\n",
    "print(hipandas.values)    #顯示值\n",
    "print(hipandas.index)     #顯示索引"
   ]
  },
  {
   "cell_type": "code",
   "execution_count": 9,
   "id": "ea7425af",
   "metadata": {},
   "outputs": [
    {
     "name": "stdout",
     "output_type": "stream",
     "text": [
      "0     5\n",
      "1    10\n",
      "2    15\n",
      "3    20\n",
      "4    25\n",
      "5    30\n",
      "dtype: int64\n",
      "[ 5 10 15 20 25 30]\n",
      "RangeIndex(start=0, stop=6, step=1)\n"
     ]
    }
   ],
   "source": [
    "hipandas1 = pd.Series([5, 10, 15, 20, 25, 30])\n",
    "print(hipandas1)           \n",
    "print(hipandas1.values)    \n",
    "print(hipandas1.index)     "
   ]
  },
  {
   "cell_type": "code",
   "execution_count": 8,
   "id": "d69b4a96",
   "metadata": {},
   "outputs": [
    {
     "name": "stdout",
     "output_type": "stream",
     "text": [
      "Taipei       台北\n",
      "Taichung     台中\n",
      "Kaohsiung    高雄\n",
      "dtype: object\n",
      "['台北' '台中' '高雄']\n",
      "Index(['Taipei', 'Taichung', 'Kaohsiung'], dtype='object')\n",
      "台北\n"
     ]
    },
    {
     "data": {
      "text/plain": [
       "Taipei       台北\n",
       "Taichung     台中\n",
       "Kaohsiung    高雄\n",
       "dtype: object"
      ]
     },
     "execution_count": 8,
     "metadata": {},
     "output_type": "execute_result"
    }
   ],
   "source": [
    "dict1 = {'Taipei':'台北', 'Taichung':'台中', 'Kaohsiung':'高雄'}\n",
    "city = pd.Series(dict1)\n",
    "print(city)\n",
    "print(city.values)\n",
    "print(city.index)\n",
    "print(city['Taipei'])\n",
    "city"
   ]
  },
  {
   "cell_type": "code",
   "execution_count": 11,
   "id": "b6e4ae70",
   "metadata": {},
   "outputs": [
    {
     "name": "stdout",
     "output_type": "stream",
     "text": [
      "{'Taipei': '台北', 'Taichung': '台中', 'Kaohsiung': '高雄'}\n"
     ]
    }
   ],
   "source": [
    "print(dict1)"
   ]
  },
  {
   "cell_type": "code",
   "execution_count": 12,
   "id": "9930fda2",
   "metadata": {},
   "outputs": [
    {
     "name": "stdout",
     "output_type": "stream",
     "text": [
      "Taichung     台中\n",
      "Kaohsiung    高雄\n",
      "dtype: object\n"
     ]
    }
   ],
   "source": [
    "print(city['Taichung':'Kaohsiung'])"
   ]
  },
  {
   "cell_type": "code",
   "execution_count": 10,
   "id": "dfb33e23",
   "metadata": {},
   "outputs": [
    {
     "name": "stdout",
     "output_type": "stream",
     "text": [
      "0    1\n",
      "1    2\n",
      "2    3\n",
      "3    4\n",
      "4    5\n",
      "dtype: int64\n"
     ]
    }
   ],
   "source": [
    "se1 = pd.Series([1, 2, 3, 4, 5], index = [\"a\", \"b\", \"c\", \"d\", \"e\"])\n",
    "print(se1)"
   ]
  },
  {
   "cell_type": "code",
   "execution_count": 15,
   "id": "69750784",
   "metadata": {},
   "outputs": [
    {
     "data": {
      "text/plain": [
       "1"
      ]
     },
     "execution_count": 15,
     "metadata": {},
     "output_type": "execute_result"
    }
   ],
   "source": [
    "se1[\"a\"]"
   ]
  },
  {
   "cell_type": "code",
   "execution_count": 60,
   "id": "ca4acceb",
   "metadata": {},
   "outputs": [],
   "source": [
    "se2 = pd.Series([1, 2, 3, 4, 5])\n",
    "se3 = pd.Series([10, 20, 30, 40, 50])\n",
    "se4 = pd.Series([100, 200, 300, 400, 500])\n",
    "se5 = pd.Series([99, 98, 97, 96, 95])\n",
    "df = pd.DataFrame([se2, se3, se4, se5])\n",
    "\n",
    "df1 = pd.DataFrame([[1, 2, 3, 4, 5],\n",
    "                   [10, 20, 30, 40, 50],\n",
    "                   [100, 200, 300, 400, 500],\n",
    "                   [99, 98, 97, 96, 95]],\n",
    "                   index = [\"小明\", \"小林\", \"小王\", \"小吳\"],\n",
    "                   columns = [\"國文\", \"英文\", \"數學\", \"社會\", \"自然\"])"
   ]
  },
  {
   "cell_type": "code",
   "execution_count": 36,
   "id": "55055a4d",
   "metadata": {},
   "outputs": [
    {
     "data": {
      "text/html": [
       "<div>\n",
       "<style scoped>\n",
       "    .dataframe tbody tr th:only-of-type {\n",
       "        vertical-align: middle;\n",
       "    }\n",
       "\n",
       "    .dataframe tbody tr th {\n",
       "        vertical-align: top;\n",
       "    }\n",
       "\n",
       "    .dataframe thead th {\n",
       "        text-align: right;\n",
       "    }\n",
       "</style>\n",
       "<table border=\"1\" class=\"dataframe\">\n",
       "  <thead>\n",
       "    <tr style=\"text-align: right;\">\n",
       "      <th></th>\n",
       "      <th>0</th>\n",
       "      <th>1</th>\n",
       "      <th>2</th>\n",
       "      <th>3</th>\n",
       "      <th>4</th>\n",
       "    </tr>\n",
       "  </thead>\n",
       "  <tbody>\n",
       "    <tr>\n",
       "      <th>0</th>\n",
       "      <td>1</td>\n",
       "      <td>2</td>\n",
       "      <td>3</td>\n",
       "      <td>4</td>\n",
       "      <td>5</td>\n",
       "    </tr>\n",
       "    <tr>\n",
       "      <th>1</th>\n",
       "      <td>10</td>\n",
       "      <td>20</td>\n",
       "      <td>30</td>\n",
       "      <td>40</td>\n",
       "      <td>50</td>\n",
       "    </tr>\n",
       "    <tr>\n",
       "      <th>2</th>\n",
       "      <td>100</td>\n",
       "      <td>200</td>\n",
       "      <td>300</td>\n",
       "      <td>400</td>\n",
       "      <td>500</td>\n",
       "    </tr>\n",
       "    <tr>\n",
       "      <th>3</th>\n",
       "      <td>99</td>\n",
       "      <td>98</td>\n",
       "      <td>97</td>\n",
       "      <td>96</td>\n",
       "      <td>95</td>\n",
       "    </tr>\n",
       "  </tbody>\n",
       "</table>\n",
       "</div>"
      ],
      "text/plain": [
       "     0    1    2    3    4\n",
       "0    1    2    3    4    5\n",
       "1   10   20   30   40   50\n",
       "2  100  200  300  400  500\n",
       "3   99   98   97   96   95"
      ]
     },
     "execution_count": 36,
     "metadata": {},
     "output_type": "execute_result"
    }
   ],
   "source": [
    "df"
   ]
  },
  {
   "cell_type": "code",
   "execution_count": 81,
   "id": "ed0542a1",
   "metadata": {},
   "outputs": [
    {
     "data": {
      "text/html": [
       "<div>\n",
       "<style scoped>\n",
       "    .dataframe tbody tr th:only-of-type {\n",
       "        vertical-align: middle;\n",
       "    }\n",
       "\n",
       "    .dataframe tbody tr th {\n",
       "        vertical-align: top;\n",
       "    }\n",
       "\n",
       "    .dataframe thead th {\n",
       "        text-align: right;\n",
       "    }\n",
       "</style>\n",
       "<table border=\"1\" class=\"dataframe\">\n",
       "  <thead>\n",
       "    <tr style=\"text-align: right;\">\n",
       "      <th></th>\n",
       "      <th>國文</th>\n",
       "      <th>英文</th>\n",
       "      <th>數學</th>\n",
       "      <th>社會</th>\n",
       "      <th>自然</th>\n",
       "    </tr>\n",
       "  </thead>\n",
       "  <tbody>\n",
       "    <tr>\n",
       "      <th>小明</th>\n",
       "      <td>1</td>\n",
       "      <td>2</td>\n",
       "      <td>3</td>\n",
       "      <td>4</td>\n",
       "      <td>5</td>\n",
       "    </tr>\n",
       "    <tr>\n",
       "      <th>小林</th>\n",
       "      <td>10</td>\n",
       "      <td>20</td>\n",
       "      <td>30</td>\n",
       "      <td>40</td>\n",
       "      <td>50</td>\n",
       "    </tr>\n",
       "    <tr>\n",
       "      <th>小王</th>\n",
       "      <td>100</td>\n",
       "      <td>200</td>\n",
       "      <td>300</td>\n",
       "      <td>400</td>\n",
       "      <td>500</td>\n",
       "    </tr>\n",
       "    <tr>\n",
       "      <th>小吳</th>\n",
       "      <td>99</td>\n",
       "      <td>98</td>\n",
       "      <td>97</td>\n",
       "      <td>96</td>\n",
       "      <td>95</td>\n",
       "    </tr>\n",
       "  </tbody>\n",
       "</table>\n",
       "</div>"
      ],
      "text/plain": [
       "     國文   英文   數學   社會   自然\n",
       "小明    1    2    3    4    5\n",
       "小林   10   20   30   40   50\n",
       "小王  100  200  300  400  500\n",
       "小吳   99   98   97   96   95"
      ]
     },
     "execution_count": 81,
     "metadata": {},
     "output_type": "execute_result"
    }
   ],
   "source": [
    "se6 = pd.Series([\"小明\", \"小林\", \"小王\", \"小吳\"])\n",
    "df.index = se6\n",
    "se7 = pd.Series([\"國文\", \"英文\", \"數學\", \"社會\", \"自然\"])\n",
    "df.columns = se7\n",
    "df"
   ]
  },
  {
   "cell_type": "code",
   "execution_count": 63,
   "id": "391e7a4d",
   "metadata": {},
   "outputs": [
    {
     "data": {
      "text/html": [
       "<div>\n",
       "<style scoped>\n",
       "    .dataframe tbody tr th:only-of-type {\n",
       "        vertical-align: middle;\n",
       "    }\n",
       "\n",
       "    .dataframe tbody tr th {\n",
       "        vertical-align: top;\n",
       "    }\n",
       "\n",
       "    .dataframe thead th {\n",
       "        text-align: right;\n",
       "    }\n",
       "</style>\n",
       "<table border=\"1\" class=\"dataframe\">\n",
       "  <thead>\n",
       "    <tr style=\"text-align: right;\">\n",
       "      <th></th>\n",
       "      <th>國文</th>\n",
       "      <th>英文</th>\n",
       "      <th>數學</th>\n",
       "      <th>社會</th>\n",
       "      <th>自然</th>\n",
       "    </tr>\n",
       "  </thead>\n",
       "  <tbody>\n",
       "    <tr>\n",
       "      <th>小明</th>\n",
       "      <td>1</td>\n",
       "      <td>2</td>\n",
       "      <td>3</td>\n",
       "      <td>4</td>\n",
       "      <td>5</td>\n",
       "    </tr>\n",
       "    <tr>\n",
       "      <th>小林</th>\n",
       "      <td>10</td>\n",
       "      <td>20</td>\n",
       "      <td>30</td>\n",
       "      <td>40</td>\n",
       "      <td>50</td>\n",
       "    </tr>\n",
       "    <tr>\n",
       "      <th>小王</th>\n",
       "      <td>100</td>\n",
       "      <td>200</td>\n",
       "      <td>300</td>\n",
       "      <td>400</td>\n",
       "      <td>500</td>\n",
       "    </tr>\n",
       "    <tr>\n",
       "      <th>小吳</th>\n",
       "      <td>99</td>\n",
       "      <td>98</td>\n",
       "      <td>97</td>\n",
       "      <td>96</td>\n",
       "      <td>95</td>\n",
       "    </tr>\n",
       "  </tbody>\n",
       "</table>\n",
       "</div>"
      ],
      "text/plain": [
       "     國文   英文   數學   社會   自然\n",
       "小明    1    2    3    4    5\n",
       "小林   10   20   30   40   50\n",
       "小王  100  200  300  400  500\n",
       "小吳   99   98   97   96   95"
      ]
     },
     "execution_count": 63,
     "metadata": {},
     "output_type": "execute_result"
    }
   ],
   "source": [
    "df1"
   ]
  },
  {
   "cell_type": "code",
   "execution_count": 11,
   "id": "09737429",
   "metadata": {},
   "outputs": [
    {
     "data": {
      "text/html": [
       "<div>\n",
       "<style scoped>\n",
       "    .dataframe tbody tr th:only-of-type {\n",
       "        vertical-align: middle;\n",
       "    }\n",
       "\n",
       "    .dataframe tbody tr th {\n",
       "        vertical-align: top;\n",
       "    }\n",
       "\n",
       "    .dataframe thead th {\n",
       "        text-align: right;\n",
       "    }\n",
       "</style>\n",
       "<table border=\"1\" class=\"dataframe\">\n",
       "  <thead>\n",
       "    <tr style=\"text-align: right;\">\n",
       "      <th></th>\n",
       "      <th>國文</th>\n",
       "      <th>英文</th>\n",
       "      <th>數學</th>\n",
       "      <th>自然</th>\n",
       "      <th>社會</th>\n",
       "    </tr>\n",
       "  </thead>\n",
       "  <tbody>\n",
       "    <tr>\n",
       "      <th>王小明</th>\n",
       "      <td>65</td>\n",
       "      <td>92</td>\n",
       "      <td>78</td>\n",
       "      <td>83</td>\n",
       "      <td>70</td>\n",
       "    </tr>\n",
       "    <tr>\n",
       "      <th>李小美</th>\n",
       "      <td>90</td>\n",
       "      <td>72</td>\n",
       "      <td>76</td>\n",
       "      <td>93</td>\n",
       "      <td>56</td>\n",
       "    </tr>\n",
       "    <tr>\n",
       "      <th>陳大同</th>\n",
       "      <td>81</td>\n",
       "      <td>85</td>\n",
       "      <td>91</td>\n",
       "      <td>89</td>\n",
       "      <td>94</td>\n",
       "    </tr>\n",
       "    <tr>\n",
       "      <th>林小玉</th>\n",
       "      <td>79</td>\n",
       "      <td>53</td>\n",
       "      <td>47</td>\n",
       "      <td>94</td>\n",
       "      <td>80</td>\n",
       "    </tr>\n",
       "  </tbody>\n",
       "</table>\n",
       "</div>"
      ],
      "text/plain": [
       "     國文  英文  數學  自然  社會\n",
       "王小明  65  92  78  83  70\n",
       "李小美  90  72  76  93  56\n",
       "陳大同  81  85  91  89  94\n",
       "林小玉  79  53  47  94  80"
      ]
     },
     "execution_count": 11,
     "metadata": {},
     "output_type": "execute_result"
    }
   ],
   "source": [
    "scores = {'國文':{'王小明':65, '李小美':90, '陳大同':81, '林小玉':79},\n",
    "          '英文':{'王小明':92, '李小美':72, '陳大同':85, '林小玉':53},\n",
    "          '數學':{'王小明':78, '李小美':76, '陳大同':91, '林小玉':47},\n",
    "          '自然':{'王小明':83, '李小美':93, '陳大同':89, '林小玉':94},\n",
    "          '社會':{'王小明':70, '李小美':56, '陳大同':94, '林小玉':80}}\n",
    "df1 = pd.DataFrame(scores)\n",
    "df1\n",
    "#print(df2[\"國文\"])"
   ]
  },
  {
   "cell_type": "code",
   "execution_count": 12,
   "id": "a69cb53b",
   "metadata": {},
   "outputs": [
    {
     "data": {
      "text/html": [
       "<div>\n",
       "<style scoped>\n",
       "    .dataframe tbody tr th:only-of-type {\n",
       "        vertical-align: middle;\n",
       "    }\n",
       "\n",
       "    .dataframe tbody tr th {\n",
       "        vertical-align: top;\n",
       "    }\n",
       "\n",
       "    .dataframe thead th {\n",
       "        text-align: right;\n",
       "    }\n",
       "</style>\n",
       "<table border=\"1\" class=\"dataframe\">\n",
       "  <thead>\n",
       "    <tr style=\"text-align: right;\">\n",
       "      <th></th>\n",
       "      <th>國文</th>\n",
       "      <th>英文</th>\n",
       "      <th>數學</th>\n",
       "      <th>自然</th>\n",
       "      <th>社會</th>\n",
       "    </tr>\n",
       "  </thead>\n",
       "  <tbody>\n",
       "    <tr>\n",
       "      <th>王小明</th>\n",
       "      <td>65</td>\n",
       "      <td>92</td>\n",
       "      <td>78</td>\n",
       "      <td>83</td>\n",
       "      <td>70</td>\n",
       "    </tr>\n",
       "    <tr>\n",
       "      <th>李小美</th>\n",
       "      <td>90</td>\n",
       "      <td>72</td>\n",
       "      <td>76</td>\n",
       "      <td>93</td>\n",
       "      <td>56</td>\n",
       "    </tr>\n",
       "    <tr>\n",
       "      <th>陳大同</th>\n",
       "      <td>81</td>\n",
       "      <td>85</td>\n",
       "      <td>91</td>\n",
       "      <td>89</td>\n",
       "      <td>94</td>\n",
       "    </tr>\n",
       "    <tr>\n",
       "      <th>林小玉</th>\n",
       "      <td>79</td>\n",
       "      <td>53</td>\n",
       "      <td>47</td>\n",
       "      <td>94</td>\n",
       "      <td>80</td>\n",
       "    </tr>\n",
       "  </tbody>\n",
       "</table>\n",
       "</div>"
      ],
      "text/plain": [
       "     國文  英文  數學  自然  社會\n",
       "王小明  65  92  78  83  70\n",
       "李小美  90  72  76  93  56\n",
       "陳大同  81  85  91  89  94\n",
       "林小玉  79  53  47  94  80"
      ]
     },
     "execution_count": 12,
     "metadata": {},
     "output_type": "execute_result"
    }
   ],
   "source": [
    "se2 = pd.Series({'王小明':65, '李小美':90, '陳大同':81, '林小玉':79})\n",
    "se3 = pd.Series({'王小明':92, '李小美':72, '陳大同':85, '林小玉':53})\n",
    "se4 = pd.Series({'王小明':78, '李小美':76, '陳大同':91, '林小玉':47})\n",
    "se5 = pd.Series({'王小明':83, '李小美':93, '陳大同':89, '林小玉':94})\n",
    "se6 = pd.Series({'王小明':70, '李小美':56, '陳大同':94, '林小玉':80})\n",
    "df2 = pd.DataFrame({ '國文':se2, '英文':se3, '數學':se4, '自然':se5, '社會':se6} )\n",
    "df2"
   ]
  },
  {
   "cell_type": "code",
   "execution_count": 82,
   "id": "f9c62544",
   "metadata": {},
   "outputs": [
    {
     "data": {
      "text/html": [
       "<div>\n",
       "<style scoped>\n",
       "    .dataframe tbody tr th:only-of-type {\n",
       "        vertical-align: middle;\n",
       "    }\n",
       "\n",
       "    .dataframe tbody tr th {\n",
       "        vertical-align: top;\n",
       "    }\n",
       "\n",
       "    .dataframe thead th {\n",
       "        text-align: right;\n",
       "    }\n",
       "</style>\n",
       "<table border=\"1\" class=\"dataframe\">\n",
       "  <thead>\n",
       "    <tr style=\"text-align: right;\">\n",
       "      <th></th>\n",
       "      <th>國文</th>\n",
       "      <th>英文</th>\n",
       "      <th>數學</th>\n",
       "      <th>自然</th>\n",
       "      <th>社會</th>\n",
       "    </tr>\n",
       "  </thead>\n",
       "  <tbody>\n",
       "    <tr>\n",
       "      <th>王小明</th>\n",
       "      <td>65</td>\n",
       "      <td>92</td>\n",
       "      <td>78</td>\n",
       "      <td>83</td>\n",
       "      <td>70</td>\n",
       "    </tr>\n",
       "    <tr>\n",
       "      <th>李小美</th>\n",
       "      <td>90</td>\n",
       "      <td>72</td>\n",
       "      <td>76</td>\n",
       "      <td>93</td>\n",
       "      <td>56</td>\n",
       "    </tr>\n",
       "    <tr>\n",
       "      <th>陳大同</th>\n",
       "      <td>81</td>\n",
       "      <td>85</td>\n",
       "      <td>91</td>\n",
       "      <td>89</td>\n",
       "      <td>94</td>\n",
       "    </tr>\n",
       "    <tr>\n",
       "      <th>林小玉</th>\n",
       "      <td>79</td>\n",
       "      <td>53</td>\n",
       "      <td>47</td>\n",
       "      <td>94</td>\n",
       "      <td>80</td>\n",
       "    </tr>\n",
       "  </tbody>\n",
       "</table>\n",
       "</div>"
      ],
      "text/plain": [
       "     國文  英文  數學  自然  社會\n",
       "王小明  65  92  78  83  70\n",
       "李小美  90  72  76  93  56\n",
       "陳大同  81  85  91  89  94\n",
       "林小玉  79  53  47  94  80"
      ]
     },
     "execution_count": 82,
     "metadata": {},
     "output_type": "execute_result"
    }
   ],
   "source": [
    "df4 = pd.concat([se8, se9, se10, se11, se12], axis = 1)\n",
    "df4.columns = ['國文', '英文', '數學', '自然', '社會']\n",
    "df4"
   ]
  },
  {
   "cell_type": "code",
   "execution_count": 87,
   "id": "83ddc9f5",
   "metadata": {},
   "outputs": [
    {
     "data": {
      "text/html": [
       "<div>\n",
       "<style scoped>\n",
       "    .dataframe tbody tr th:only-of-type {\n",
       "        vertical-align: middle;\n",
       "    }\n",
       "\n",
       "    .dataframe tbody tr th {\n",
       "        vertical-align: top;\n",
       "    }\n",
       "\n",
       "    .dataframe thead th {\n",
       "        text-align: right;\n",
       "    }\n",
       "</style>\n",
       "<table border=\"1\" class=\"dataframe\">\n",
       "  <thead>\n",
       "    <tr style=\"text-align: right;\">\n",
       "      <th></th>\n",
       "      <th>國文</th>\n",
       "      <th>英文</th>\n",
       "      <th>數學</th>\n",
       "      <th>自然</th>\n",
       "      <th>社會</th>\n",
       "    </tr>\n",
       "  </thead>\n",
       "  <tbody>\n",
       "    <tr>\n",
       "      <th>李小美</th>\n",
       "      <td>90</td>\n",
       "      <td>72</td>\n",
       "      <td>76</td>\n",
       "      <td>93</td>\n",
       "      <td>56</td>\n",
       "    </tr>\n",
       "    <tr>\n",
       "      <th>陳大同</th>\n",
       "      <td>81</td>\n",
       "      <td>85</td>\n",
       "      <td>91</td>\n",
       "      <td>89</td>\n",
       "      <td>94</td>\n",
       "    </tr>\n",
       "  </tbody>\n",
       "</table>\n",
       "</div>"
      ],
      "text/plain": [
       "     國文  英文  數學  自然  社會\n",
       "李小美  90  72  76  93  56\n",
       "陳大同  81  85  91  89  94"
      ]
     },
     "execution_count": 87,
     "metadata": {},
     "output_type": "execute_result"
    }
   ],
   "source": [
    "df4[df4[\"國文\"] >= 80]"
   ]
  },
  {
   "cell_type": "code",
   "execution_count": 88,
   "id": "a70932c6",
   "metadata": {},
   "outputs": [
    {
     "data": {
      "text/plain": [
       "array([[65, 92, 78, 83, 70],\n",
       "       [90, 72, 76, 93, 56],\n",
       "       [81, 85, 91, 89, 94],\n",
       "       [79, 53, 47, 94, 80]], dtype=int64)"
      ]
     },
     "execution_count": 88,
     "metadata": {},
     "output_type": "execute_result"
    }
   ],
   "source": [
    "df4.values"
   ]
  },
  {
   "cell_type": "code",
   "execution_count": 89,
   "id": "b621228e",
   "metadata": {},
   "outputs": [
    {
     "data": {
      "text/plain": [
       "80"
      ]
     },
     "execution_count": 89,
     "metadata": {},
     "output_type": "execute_result"
    }
   ],
   "source": [
    "df4.loc[\"林小玉\", \"社會\"]"
   ]
  },
  {
   "cell_type": "code",
   "execution_count": null,
   "id": "191ffa78",
   "metadata": {},
   "outputs": [],
   "source": []
  }
 ],
 "metadata": {
  "kernelspec": {
   "display_name": "Python 3 (ipykernel)",
   "language": "python",
   "name": "python3"
  },
  "language_info": {
   "codemirror_mode": {
    "name": "ipython",
    "version": 3
   },
   "file_extension": ".py",
   "mimetype": "text/x-python",
   "name": "python",
   "nbconvert_exporter": "python",
   "pygments_lexer": "ipython3",
   "version": "3.8.13"
  }
 },
 "nbformat": 4,
 "nbformat_minor": 5
}
