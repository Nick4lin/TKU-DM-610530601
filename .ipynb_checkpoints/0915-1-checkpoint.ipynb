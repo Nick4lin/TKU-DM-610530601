{
 "cells": [
  {
   "cell_type": "code",
   "execution_count": 1,
   "id": "42f3b10d",
   "metadata": {},
   "outputs": [
    {
     "name": "stdout",
     "output_type": "stream",
     "text": [
      "hello\n"
     ]
    }
   ],
   "source": [
    "print(\"hello\")"
   ]
  },
  {
   "cell_type": "code",
   "execution_count": 3,
   "id": "7d1707cd",
   "metadata": {},
   "outputs": [],
   "source": [
    "a = 1"
   ]
  },
  {
   "cell_type": "code",
   "execution_count": 4,
   "id": "352ffa95",
   "metadata": {},
   "outputs": [],
   "source": [
    "b = 2"
   ]
  },
  {
   "cell_type": "code",
   "execution_count": 5,
   "id": "5f189e54",
   "metadata": {},
   "outputs": [
    {
     "data": {
      "text/plain": [
       "1"
      ]
     },
     "execution_count": 5,
     "metadata": {},
     "output_type": "execute_result"
    }
   ],
   "source": [
    "a"
   ]
  },
  {
   "cell_type": "code",
   "execution_count": 6,
   "id": "6a572099",
   "metadata": {},
   "outputs": [
    {
     "data": {
      "text/plain": [
       "2"
      ]
     },
     "execution_count": 6,
     "metadata": {},
     "output_type": "execute_result"
    }
   ],
   "source": [
    "b"
   ]
  },
  {
   "cell_type": "code",
   "execution_count": 7,
   "id": "3e6379de",
   "metadata": {},
   "outputs": [
    {
     "data": {
      "text/plain": [
       "(1, 2)"
      ]
     },
     "execution_count": 7,
     "metadata": {},
     "output_type": "execute_result"
    }
   ],
   "source": [
    "a, b"
   ]
  },
  {
   "cell_type": "code",
   "execution_count": 14,
   "id": "3c29e7ba",
   "metadata": {},
   "outputs": [],
   "source": [
    "age, name = 34, '林晟豐'"
   ]
  },
  {
   "cell_type": "code",
   "execution_count": 15,
   "id": "e00a50a4",
   "metadata": {},
   "outputs": [
    {
     "data": {
      "text/plain": [
       "'林晟豐'"
      ]
     },
     "execution_count": 15,
     "metadata": {},
     "output_type": "execute_result"
    }
   ],
   "source": [
    "name   ###1"
   ]
  },
  {
   "cell_type": "code",
   "execution_count": 32,
   "id": "b178f27a",
   "metadata": {},
   "outputs": [],
   "source": [
    "str1 = 'Lin:\"hey\"'\n",
    "str2 = \"Lin:'hey'\""
   ]
  },
  {
   "cell_type": "code",
   "execution_count": 30,
   "id": "9b256f9e",
   "metadata": {},
   "outputs": [],
   "source": [
    "c = 3"
   ]
  },
  {
   "cell_type": "code",
   "execution_count": 28,
   "id": "3455ac69",
   "metadata": {},
   "outputs": [
    {
     "data": {
      "text/plain": [
       "'Lin:\"hey\"'"
      ]
     },
     "execution_count": 28,
     "metadata": {},
     "output_type": "execute_result"
    }
   ],
   "source": [
    "str1"
   ]
  },
  {
   "cell_type": "code",
   "execution_count": 33,
   "id": "d91fe1c8",
   "metadata": {
    "scrolled": false
   },
   "outputs": [
    {
     "data": {
      "text/plain": [
       "\"Lin:'hey'\""
      ]
     },
     "execution_count": 33,
     "metadata": {},
     "output_type": "execute_result"
    }
   ],
   "source": [
    "str2"
   ]
  },
  {
   "cell_type": "code",
   "execution_count": 34,
   "id": "98e9ec26",
   "metadata": {},
   "outputs": [
    {
     "data": {
      "text/plain": [
       "(1, 2, 3)"
      ]
     },
     "execution_count": 34,
     "metadata": {},
     "output_type": "execute_result"
    }
   ],
   "source": [
    "a, b, c"
   ]
  },
  {
   "cell_type": "code",
   "execution_count": 35,
   "id": "a1996771",
   "metadata": {},
   "outputs": [
    {
     "data": {
      "text/plain": [
       "[1, 2, 3]"
      ]
     },
     "execution_count": 35,
     "metadata": {},
     "output_type": "execute_result"
    }
   ],
   "source": [
    "[a, b, c]"
   ]
  },
  {
   "cell_type": "code",
   "execution_count": 36,
   "id": "fe659db1",
   "metadata": {},
   "outputs": [
    {
     "data": {
      "text/plain": [
       "(1, [2, 3])"
      ]
     },
     "execution_count": 36,
     "metadata": {},
     "output_type": "execute_result"
    }
   ],
   "source": [
    "a, [b, c]"
   ]
  },
  {
   "cell_type": "code",
   "execution_count": 37,
   "id": "a4962e09",
   "metadata": {},
   "outputs": [
    {
     "name": "stdout",
     "output_type": "stream",
     "text": [
      "hey_hi_hello\n"
     ]
    }
   ],
   "source": [
    "print(\"hey\", \"hi\", \"hello\", sep = \"_\")"
   ]
  },
  {
   "cell_type": "code",
   "execution_count": 38,
   "id": "630fd12b",
   "metadata": {},
   "outputs": [
    {
     "name": "stdout",
     "output_type": "stream",
     "text": [
      "hey\n",
      "hi\n",
      "hello\n"
     ]
    }
   ],
   "source": [
    "print(\"hey\", \"hi\", \"hello\", sep = \"\\n\")"
   ]
  },
  {
   "cell_type": "code",
   "execution_count": 39,
   "id": "e38d7346",
   "metadata": {},
   "outputs": [
    {
     "name": "stdout",
     "output_type": "stream",
     "text": [
      "hey\thi\thello\n"
     ]
    }
   ],
   "source": [
    "print(\"hey\", \"hi\", \"hello\", sep = \"\\t\")"
   ]
  },
  {
   "cell_type": "code",
   "execution_count": 42,
   "id": "c7b955cc",
   "metadata": {
    "scrolled": true
   },
   "outputs": [
    {
     "name": "stdout",
     "output_type": "stream",
     "text": [
      "輸入:45\n"
     ]
    }
   ],
   "source": [
    "test1 = input(\"輸入:\")"
   ]
  },
  {
   "cell_type": "code",
   "execution_count": 45,
   "id": "0d1e22ec",
   "metadata": {},
   "outputs": [
    {
     "data": {
      "text/plain": [
       "'45'"
      ]
     },
     "execution_count": 45,
     "metadata": {},
     "output_type": "execute_result"
    }
   ],
   "source": [
    "test1"
   ]
  },
  {
   "cell_type": "code",
   "execution_count": 44,
   "id": "446b9f1d",
   "metadata": {},
   "outputs": [
    {
     "name": "stdout",
     "output_type": "stream",
     "text": [
      "輸入:45\n"
     ]
    }
   ],
   "source": [
    "test2 = int(input(\"輸入:\"))"
   ]
  },
  {
   "cell_type": "code",
   "execution_count": 46,
   "id": "b3545c95",
   "metadata": {},
   "outputs": [
    {
     "data": {
      "text/plain": [
       "str"
      ]
     },
     "execution_count": 46,
     "metadata": {},
     "output_type": "execute_result"
    }
   ],
   "source": [
    "type(test1)"
   ]
  },
  {
   "cell_type": "code",
   "execution_count": 47,
   "id": "022190b1",
   "metadata": {},
   "outputs": [
    {
     "data": {
      "text/plain": [
       "int"
      ]
     },
     "execution_count": 47,
     "metadata": {},
     "output_type": "execute_result"
    }
   ],
   "source": [
    "type(test2)"
   ]
  },
  {
   "cell_type": "code",
   "execution_count": 48,
   "id": "c4835d54",
   "metadata": {},
   "outputs": [
    {
     "data": {
      "text/plain": [
       "int"
      ]
     },
     "execution_count": 48,
     "metadata": {},
     "output_type": "execute_result"
    }
   ],
   "source": [
    "test3 = int(test1)\n",
    "type(test3)"
   ]
  },
  {
   "cell_type": "code",
   "execution_count": 53,
   "id": "c1d7ca57",
   "metadata": {},
   "outputs": [
    {
     "name": "stdout",
     "output_type": "stream",
     "text": [
      "請輸入國文成績20\n",
      "請輸入數學成績30\n",
      "請輸入英文成績40\n",
      "你的總成績為90\n"
     ]
    }
   ],
   "source": [
    "chinese = int(input(\"請輸入國文成績\"))\n",
    "math = int(input(\"請輸入數學成績\"))\n",
    "english = int(input(\"請輸入英文成績\"))\n",
    "total = chinese + math + english\n",
    "print(\"你的總成績為\" + str(total))"
   ]
  },
  {
   "cell_type": "code",
   "execution_count": 3,
   "id": "a8b1f818",
   "metadata": {},
   "outputs": [
    {
     "data": {
      "text/plain": [
       "int"
      ]
     },
     "execution_count": 3,
     "metadata": {},
     "output_type": "execute_result"
    }
   ],
   "source": [
    "type(2)"
   ]
  },
  {
   "cell_type": "code",
   "execution_count": 4,
   "id": "82a4dfbe",
   "metadata": {},
   "outputs": [
    {
     "data": {
      "text/plain": [
       "float"
      ]
     },
     "execution_count": 4,
     "metadata": {},
     "output_type": "execute_result"
    }
   ],
   "source": [
    "type(2.5)"
   ]
  },
  {
   "cell_type": "code",
   "execution_count": 2,
   "id": "facc4773",
   "metadata": {},
   "outputs": [
    {
     "data": {
      "text/plain": [
       "str"
      ]
     },
     "execution_count": 2,
     "metadata": {},
     "output_type": "execute_result"
    }
   ],
   "source": [
    "type(\"2\")"
   ]
  },
  {
   "cell_type": "code",
   "execution_count": 3,
   "id": "2ed457d1",
   "metadata": {},
   "outputs": [
    {
     "data": {
      "text/plain": [
       "20"
      ]
     },
     "execution_count": 3,
     "metadata": {},
     "output_type": "execute_result"
    }
   ],
   "source": [
    "a = 10\n",
    "a = a + a\n",
    "a"
   ]
  },
  {
   "cell_type": "code",
   "execution_count": 5,
   "id": "935a61ad",
   "metadata": {
    "scrolled": true
   },
   "outputs": [
    {
     "data": {
      "text/plain": [
       "20"
      ]
     },
     "execution_count": 5,
     "metadata": {},
     "output_type": "execute_result"
    }
   ],
   "source": [
    "a = 10\n",
    "a += a\n",
    "a"
   ]
  },
  {
   "cell_type": "code",
   "execution_count": 8,
   "id": "d0061038",
   "metadata": {},
   "outputs": [
    {
     "name": "stdout",
     "output_type": "stream",
     "text": [
      "himy friend\n",
      "hi,my friend\n",
      "hihihihihi\n",
      "hi my friend\n",
      "hi*my friend\n",
      "hi\n",
      "my friend\n"
     ]
    }
   ],
   "source": [
    "a = \"hi\"\n",
    "b = \"my friend\"\n",
    "print(a + b)\n",
    "print(a + \",\" + b)\n",
    "print(a * 5)\n",
    "print(a, b)\n",
    "print(a, b, sep=\"*\")\n",
    "print(a + \"\\n\" +b)   #\\n 換行"
   ]
  },
  {
   "cell_type": "code",
   "execution_count": 10,
   "id": "fec653e1",
   "metadata": {},
   "outputs": [
    {
     "data": {
      "text/plain": [
       "'hihihimy friend'"
      ]
     },
     "execution_count": 10,
     "metadata": {},
     "output_type": "execute_result"
    }
   ],
   "source": [
    "f'{a}{b}'\n",
    "f'{a*3}{b}'"
   ]
  },
  {
   "cell_type": "code",
   "execution_count": 19,
   "id": "5eeaf1d8",
   "metadata": {},
   "outputs": [
    {
     "name": "stdout",
     "output_type": "stream",
     "text": [
      "bcde\n",
      "abcdef\n",
      "defg\n",
      "gfedcba\n",
      "aceg\n",
      "bdf\n"
     ]
    }
   ],
   "source": [
    "#3 字串位置\n",
    "c = \"abcdefg\"\n",
    "print(c[1:5])   #取到 4 (5-1)的位置\n",
    "print(c[:-1])   #最前面開始 =c[0:-1] 0省略\n",
    "print(c[3:])    #到最後面\n",
    "print(c[::-1])  #反過來\n",
    "print(c[::2])   #間隔2\n",
    "print(c[1::2])  #從第2個開始間隔2"
   ]
  },
  {
   "cell_type": "code",
   "execution_count": 10,
   "id": "9c550527",
   "metadata": {},
   "outputs": [
    {
     "name": "stdout",
     "output_type": "stream",
     "text": [
      "a=b\n"
     ]
    }
   ],
   "source": [
    "a = 4\n",
    "b = 4\n",
    "if a > b:\n",
    "    pass            # 遇到「不想執行任何動作」的狀況，可以使用「pass」作為空式子\n",
    "elif a < b:\n",
    "    print('a<b')   \n",
    "else:\n",
    "    print('a=b')    "
   ]
  },
  {
   "cell_type": "code",
   "execution_count": 13,
   "id": "ce49526e",
   "metadata": {},
   "outputs": [
    {
     "name": "stdout",
     "output_type": "stream",
     "text": [
      "a<b\n",
      "a=3\n"
     ]
    }
   ],
   "source": [
    "a = 3\n",
    "b = 5\n",
    "if a < b:\n",
    "    print('a<b')      \n",
    "    if a == 1:\n",
    "        print('a=1')  \n",
    "    elif a == 2:\n",
    "        print('a=2') \n",
    "    elif a == 3:\n",
    "        print('a=3')  \n",
    "elif a > b:\n",
    "    print('a>b')     \n",
    "else:\n",
    "    print('a=b')      "
   ]
  },
  {
   "cell_type": "code",
   "execution_count": 20,
   "id": "8a8a82e2",
   "metadata": {},
   "outputs": [
    {
     "name": "stdout",
     "output_type": "stream",
     "text": [
      "[[1, 2, 3, 4], [4, 5]]\n",
      "2\n",
      "a\n",
      "[1, 2]\n",
      "[5, 5, 5, 3, 4]\n",
      "[[5, 4], [4, 5]]\n",
      "[5, 4]\n"
     ]
    }
   ],
   "source": [
    "data = [1, 2, 3, 4]\n",
    "list0 = [data, [4, 5]]\n",
    "print(list0)\n",
    "print(list0[0][1])  # 巢狀list\n",
    "list1 = [\"data\", [4, 5]]\n",
    "print(list1[0][1])\n",
    "print(list0[0][0:2])\n",
    "list0[0][0:2] = [5, 5, 5]\n",
    "print(data)\n",
    "data[1:4] = []\n",
    "print(list0)\n",
    "print(data)"
   ]
  },
  {
   "cell_type": "code",
   "execution_count": 1,
   "id": "9330d168",
   "metadata": {},
   "outputs": [
    {
     "name": "stdout",
     "output_type": "stream",
     "text": [
      "[1, 2]\n",
      "[3, 4]\n",
      "[5, 6]\n"
     ]
    }
   ],
   "source": [
    "list1 = [[1, 2], [3, 4], [5, 6]]\n",
    "for i in list1:\n",
    "    print(i)             #因為list1裡有3個元素，迴圈會進行3次，i會print出list1[0]、list1[1]、list1[2]"
   ]
  },
  {
   "cell_type": "code",
   "execution_count": 17,
   "id": "01a40e6b",
   "metadata": {},
   "outputs": [
    {
     "name": "stdout",
     "output_type": "stream",
     "text": [
      "2\n",
      "0\n",
      "2\n",
      "2\n",
      "1\n",
      "1\n",
      "0\n",
      "5\n"
     ]
    }
   ],
   "source": [
    "str1 = \"20221105\"\n",
    "for i in str1:\n",
    "    print(i) "
   ]
  },
  {
   "cell_type": "code",
   "execution_count": 20,
   "id": "74f088ee",
   "metadata": {},
   "outputs": [
    {
     "data": {
      "text/plain": [
       "[1, 2, 3, 4, 5, 6, 7, 8, 9]"
      ]
     },
     "execution_count": 20,
     "metadata": {},
     "output_type": "execute_result"
    }
   ],
   "source": [
    "list(range(1, 10))"
   ]
  },
  {
   "cell_type": "code",
   "execution_count": 21,
   "id": "dc0765be",
   "metadata": {},
   "outputs": [
    {
     "data": {
      "text/plain": [
       "[0, 2, 4, 6, 8, 10]"
      ]
     },
     "execution_count": 21,
     "metadata": {},
     "output_type": "execute_result"
    }
   ],
   "source": [
    "list(range(0, 11, 2)) #0~10，間隔2"
   ]
  },
  {
   "cell_type": "code",
   "execution_count": 23,
   "id": "0db5b030",
   "metadata": {
    "scrolled": true
   },
   "outputs": [
    {
     "name": "stdout",
     "output_type": "stream",
     "text": [
      "0\n",
      "2\n",
      "4\n",
      "6\n",
      "8\n",
      "10\n"
     ]
    }
   ],
   "source": [
    "for i in range(0, 11, 2):\n",
    "    print(i)"
   ]
  },
  {
   "cell_type": "code",
   "execution_count": 25,
   "id": "8774aaf7",
   "metadata": {},
   "outputs": [
    {
     "name": "stdout",
     "output_type": "stream",
     "text": [
      "0\n",
      "1\n",
      "x\n",
      "0\n",
      "1\n",
      "y\n",
      "0\n",
      "1\n",
      "z\n"
     ]
    }
   ],
   "source": [
    "for a in ['x', 'y', 'z']:\n",
    "    for b in range(0,2):\n",
    "        print(b)\n",
    "    print(a)"
   ]
  }
 ],
 "metadata": {
  "kernelspec": {
   "display_name": "Python 3 (ipykernel)",
   "language": "python",
   "name": "python3"
  },
  "language_info": {
   "codemirror_mode": {
    "name": "ipython",
    "version": 3
   },
   "file_extension": ".py",
   "mimetype": "text/x-python",
   "name": "python",
   "nbconvert_exporter": "python",
   "pygments_lexer": "ipython3",
   "version": "3.8.13"
  }
 },
 "nbformat": 4,
 "nbformat_minor": 5
}
