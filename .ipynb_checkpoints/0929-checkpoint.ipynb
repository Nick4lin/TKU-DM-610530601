{
 "cells": [
  {
   "cell_type": "code",
   "execution_count": 1,
   "id": "ce874033",
   "metadata": {
    "scrolled": true
   },
   "outputs": [
    {
     "name": "stdout",
     "output_type": "stream",
     "text": [
      " 磁碟區 C 中的磁碟是 Windows\n",
      " 磁碟區序號:  FE49-3B7A\n",
      "\n",
      " C:\\Users\\wind84128\\dm\\TKU-DM-610530601 的目錄\n",
      "\n",
      "2022/09/29  上午 10:21    <DIR>          .\n",
      "2022/09/29  上午 10:21    <DIR>          ..\n",
      "2022/09/29  上午 10:19    <DIR>          .ipynb_checkpoints\n",
      "2022/09/22  上午 11:14             8,575 0915-1.ipynb\n",
      "2022/09/22  上午 11:41             7,410 0922.ipynb\n",
      "2022/09/29  上午 10:21               589 0929.ipynb\n",
      "2022/09/22  上午 11:07                18 README.md\n",
      "2022/09/22  上午 11:39           152,261 scores.csv\n",
      "               5 個檔案         168,853 位元組\n",
      "               3 個目錄  15,969,599,488 位元組可用\n"
     ]
    }
   ],
   "source": [
    "ls"
   ]
  },
  {
   "cell_type": "code",
   "execution_count": 3,
   "id": "062efd4f",
   "metadata": {},
   "outputs": [
    {
     "name": "stdout",
     "output_type": "stream",
     "text": [
      "Writing hi.py\n"
     ]
    }
   ],
   "source": [
    "%%writefile hi.py    #寫檔案\n",
    "print(\"hi 0929!\")"
   ]
  },
  {
   "cell_type": "code",
   "execution_count": 4,
   "id": "8afe5028",
   "metadata": {},
   "outputs": [
    {
     "name": "stdout",
     "output_type": "stream",
     "text": [
      "hi 0929!\n"
     ]
    }
   ],
   "source": [
    "run hi.py"
   ]
  },
  {
   "cell_type": "code",
   "execution_count": 7,
   "id": "58dd4fc9",
   "metadata": {},
   "outputs": [],
   "source": [
    "a = 1    #b快捷，加新cell"
   ]
  },
  {
   "cell_type": "code",
   "execution_count": 6,
   "id": "74e0afd0",
   "metadata": {},
   "outputs": [],
   "source": [
    "b = 2"
   ]
  },
  {
   "cell_type": "code",
   "execution_count": 8,
   "id": "a7c109f4",
   "metadata": {},
   "outputs": [
    {
     "name": "stdout",
     "output_type": "stream",
     "text": [
      "Variable   Type    Data/Info\n",
      "----------------------------\n",
      "a          int     1\n",
      "b          int     2\n"
     ]
    }
   ],
   "source": [
    "whos"
   ]
  },
  {
   "cell_type": "code",
   "execution_count": 10,
   "id": "32fd4b3e",
   "metadata": {},
   "outputs": [
    {
     "name": "stdout",
     "output_type": "stream",
     "text": [
      "Requirement already satisfied: Numpy in d:\\anaconda3\\envs\\dm\\lib\\site-packages (1.23.3)\n",
      "Note: you may need to restart the kernel to use updated packages.\n"
     ]
    }
   ],
   "source": [
    "pip install Numpy"
   ]
  },
  {
   "cell_type": "code",
   "execution_count": 11,
   "id": "724c4df7",
   "metadata": {},
   "outputs": [],
   "source": [
    "import numpy as np"
   ]
  },
  {
   "cell_type": "code",
   "execution_count": 12,
   "id": "e8122e1b",
   "metadata": {},
   "outputs": [
    {
     "name": "stdout",
     "output_type": "stream",
     "text": [
      "[1 2 3 4]\n",
      "[5 6 7 8]\n",
      "<class 'numpy.ndarray'> <class 'numpy.ndarray'>\n"
     ]
    }
   ],
   "source": [
    "np1 = np.array([1,2,3,4])\n",
    "np2 = np.array((5,6,7,8))\n",
    "print(np1)\n",
    "print(np2)\n",
    "print(type(np1), type(np2))"
   ]
  },
  {
   "cell_type": "code",
   "execution_count": 13,
   "id": "1779793d",
   "metadata": {},
   "outputs": [
    {
     "name": "stdout",
     "output_type": "stream",
     "text": [
      "[1 2 3 4]\n",
      "[5 6 7 8]\n",
      "<class 'numpy.ndarray'> <class 'numpy.ndarray'>\n"
     ]
    }
   ],
   "source": [
    "print(np1)\n",
    "print(np2)\n",
    "print(type(np1), type(np2))"
   ]
  },
  {
   "cell_type": "code",
   "execution_count": 14,
   "id": "4958b42b",
   "metadata": {},
   "outputs": [],
   "source": [
    "np3 = np.arange(0, 31, 2)"
   ]
  },
  {
   "cell_type": "code",
   "execution_count": 15,
   "id": "9a89d891",
   "metadata": {},
   "outputs": [
    {
     "data": {
      "text/plain": [
       "array([ 0,  2,  4,  6,  8, 10, 12, 14, 16, 18, 20, 22, 24, 26, 28, 30])"
      ]
     },
     "execution_count": 15,
     "metadata": {},
     "output_type": "execute_result"
    }
   ],
   "source": [
    "np3"
   ]
  },
  {
   "cell_type": "code",
   "execution_count": 24,
   "id": "1d350a5d",
   "metadata": {},
   "outputs": [],
   "source": [
    "np4 = np.linspace(1, 15, 5)"
   ]
  },
  {
   "cell_type": "code",
   "execution_count": 25,
   "id": "00d0a142",
   "metadata": {},
   "outputs": [
    {
     "data": {
      "text/plain": [
       "array([ 1. ,  4.5,  8. , 11.5, 15. ])"
      ]
     },
     "execution_count": 25,
     "metadata": {},
     "output_type": "execute_result"
    }
   ],
   "source": [
    "np4"
   ]
  },
  {
   "cell_type": "code",
   "execution_count": 27,
   "id": "793731c7",
   "metadata": {},
   "outputs": [],
   "source": [
    "np5 = np.zeros((5,))"
   ]
  },
  {
   "cell_type": "code",
   "execution_count": 34,
   "id": "36717fcc",
   "metadata": {},
   "outputs": [
    {
     "data": {
      "text/plain": [
       "array([0., 0., 0., 0., 0.])"
      ]
     },
     "execution_count": 34,
     "metadata": {},
     "output_type": "execute_result"
    }
   ],
   "source": [
    "np5"
   ]
  },
  {
   "cell_type": "code",
   "execution_count": 35,
   "id": "f204be89",
   "metadata": {},
   "outputs": [],
   "source": [
    "np6 = np.ones((5,))"
   ]
  },
  {
   "cell_type": "code",
   "execution_count": 36,
   "id": "ff665407",
   "metadata": {},
   "outputs": [
    {
     "data": {
      "text/plain": [
       "array([1., 1., 1., 1., 1.])"
      ]
     },
     "execution_count": 36,
     "metadata": {},
     "output_type": "execute_result"
    }
   ],
   "source": [
    "np6"
   ]
  },
  {
   "cell_type": "code",
   "execution_count": 39,
   "id": "73a06318",
   "metadata": {},
   "outputs": [],
   "source": [
    "np7 = np.ones((5,3))"
   ]
  },
  {
   "cell_type": "code",
   "execution_count": 40,
   "id": "eed58423",
   "metadata": {},
   "outputs": [
    {
     "data": {
      "text/plain": [
       "array([[1., 1., 1.],\n",
       "       [1., 1., 1.],\n",
       "       [1., 1., 1.],\n",
       "       [1., 1., 1.],\n",
       "       [1., 1., 1.]])"
      ]
     },
     "execution_count": 40,
     "metadata": {},
     "output_type": "execute_result"
    }
   ],
   "source": [
    "np7"
   ]
  },
  {
   "cell_type": "code",
   "execution_count": 44,
   "id": "9463c994",
   "metadata": {},
   "outputs": [],
   "source": [
    "listdata = [[1,2,3,4,5],\n",
    "           [6,7,8,9,10]]\n",
    "np8 = np.array(listdata)"
   ]
  },
  {
   "cell_type": "code",
   "execution_count": 43,
   "id": "ddb9b4a7",
   "metadata": {},
   "outputs": [
    {
     "data": {
      "text/plain": [
       "[[1, 2, 3, 4, 5], [6, 7, 8, 9, 10]]"
      ]
     },
     "execution_count": 43,
     "metadata": {},
     "output_type": "execute_result"
    }
   ],
   "source": [
    "listdata"
   ]
  },
  {
   "cell_type": "code",
   "execution_count": 45,
   "id": "5d6db2e8",
   "metadata": {},
   "outputs": [
    {
     "data": {
      "text/plain": [
       "array([[ 1,  2,  3,  4,  5],\n",
       "       [ 6,  7,  8,  9, 10]])"
      ]
     },
     "execution_count": 45,
     "metadata": {},
     "output_type": "execute_result"
    }
   ],
   "source": [
    "np8"
   ]
  },
  {
   "cell_type": "code",
   "execution_count": 46,
   "id": "a8ae1a9d",
   "metadata": {},
   "outputs": [
    {
     "name": "stdout",
     "output_type": "stream",
     "text": [
      "維度 2\n",
      "形狀 (2, 5)\n",
      "數量 10\n"
     ]
    }
   ],
   "source": [
    "print(\"維度\", np8.ndim)\n",
    "print(\"形狀\", np8.shape)\n",
    "print(\"數量\", np8.size)"
   ]
  },
  {
   "cell_type": "code",
   "execution_count": 47,
   "id": "85531e7a",
   "metadata": {},
   "outputs": [
    {
     "name": "stdout",
     "output_type": "stream",
     "text": [
      "[ 1  2  3  4  5  6  7  8  9 10 11 12 13 14 15 16 17 18 19 20]\n",
      "[[ 1  2  3  4  5]\n",
      " [ 6  7  8  9 10]\n",
      " [11 12 13 14 15]\n",
      " [16 17 18 19 20]]\n"
     ]
    }
   ],
   "source": [
    "np9 = np.arange(1, 21)\n",
    "print(np9)\n",
    "np10 = np9.reshape(4, 5)    #數量要相同\n",
    "print(np10)"
   ]
  },
  {
   "cell_type": "code",
   "execution_count": 48,
   "id": "33f24b63",
   "metadata": {},
   "outputs": [
    {
     "name": "stdout",
     "output_type": "stream",
     "text": [
      "[0 1 2 3 4 5 6 7 8]\n",
      "0\n",
      "8\n",
      "[1 2 3 4 5 6 7]\n",
      "[1 3 5 7]\n",
      "[8 7 6 5 4 3 2]\n",
      "[0 1 2 3 4 5 6 7 8]\n",
      "[4 5 6 7 8]\n",
      "[0 1 2 3]\n"
     ]
    }
   ],
   "source": [
    "#取一維資料\n",
    "np10 =np.arange(0, 9)\n",
    "print(np10)\n",
    "print(np10[0])\n",
    "print(np10[8])\n",
    "print(np10[1:8])\n",
    "print(np10[1:8:2])\n",
    "print(np10[8:1:-1])\n",
    "print(np10[:])\n",
    "print(np10[4:])\n",
    "print(np10[:4])"
   ]
  },
  {
   "cell_type": "code",
   "execution_count": 54,
   "id": "12604620",
   "metadata": {},
   "outputs": [
    {
     "name": "stdout",
     "output_type": "stream",
     "text": [
      "[[ 1  2  3  4]\n",
      " [ 5  6  7  8]\n",
      " [ 9 10 11 12]\n",
      " [13 14 15 16]\n",
      " [17 18 19 20]] \n",
      "\n",
      "3 \n",
      "\n",
      "7 \n",
      "\n",
      "3 \n",
      "\n",
      "[ 7 11] \n",
      "\n",
      "[[ 6  7]\n",
      " [10 11]] \n",
      "\n",
      "[[ 1  3]\n",
      " [ 9 11]\n",
      " [17 19]] \n",
      "\n",
      "[ 3  7 11 15 19] \n",
      "\n",
      "[5 6 7 8] \n",
      "\n",
      "[[ 1  2  3  4]\n",
      " [ 5  6  7  8]\n",
      " [ 9 10 11 12]\n",
      " [13 14 15 16]\n",
      " [17 18 19 20]]\n"
     ]
    }
   ],
   "source": [
    "#取二維陣列資料\n",
    "\n",
    "np11 = np.arange(1, 21).reshape(5, 4)\n",
    "print(np11,\"\\n\")\n",
    "print(np11[0, 2],\"\\n\")\n",
    "print(np11[1, 2],\"\\n\")\n",
    "print(np11[0][2],\"\\n\")\n",
    "print(np11[1:3, 2],\"\\n\")\n",
    "print(np11[1:3, 1:3],\"\\n\")\n",
    "print(np11[::2, ::2],\"\\n\")\n",
    "print(np11[:, 2],\"\\n\")\n",
    "print(np11[1, :],\"\\n\")\n",
    "print(np11[:, :])"
   ]
  },
  {
   "cell_type": "code",
   "execution_count": 55,
   "id": "e794b1d4",
   "metadata": {},
   "outputs": [],
   "source": [
    "np12 = np.genfromtxt('scores.csv', delimiter=',', skip_header=1)"
   ]
  },
  {
   "cell_type": "code",
   "execution_count": 56,
   "id": "75284b1d",
   "metadata": {},
   "outputs": [
    {
     "data": {
      "text/plain": [
       "array([[ 1., 87., 85., 82.],\n",
       "       [ 2., 92., 87., 90.],\n",
       "       [ 3., 80., 91., 87.],\n",
       "       [ 4., 78., 82., 95.],\n",
       "       [ 5., 88., 89., 90.],\n",
       "       [ 6., 82., 87., 88.],\n",
       "       [ 7., 90., 92., 82.],\n",
       "       [ 8., 87., 80., 90.],\n",
       "       [ 9., 95., 78., 87.],\n",
       "       [10., 90., 88., 95.],\n",
       "       [11., 88., 89., 75.],\n",
       "       [12., 82., 91., 66.],\n",
       "       [13., 90., 82., 87.],\n",
       "       [14., 87., 89., 92.],\n",
       "       [15., 95., 87., 80.],\n",
       "       [16., 90., 92., 78.],\n",
       "       [17., 82., 80., 88.],\n",
       "       [18., 90., 78., 93.],\n",
       "       [19., 67., 87., 95.],\n",
       "       [20., 91., 82., 88.],\n",
       "       [21., 82., 81., 82.],\n",
       "       [22., 79., 87., 90.],\n",
       "       [23., 87., 92., 87.],\n",
       "       [24., 92., 82., 95.],\n",
       "       [25., 80., 90., 78.],\n",
       "       [26., 78., 76., 91.],\n",
       "       [27., 66., 90., 82.],\n",
       "       [28., 89., 77., 89.],\n",
       "       [29., 87., 95., 87.],\n",
       "       [30., 73., 90., 92.]])"
      ]
     },
     "execution_count": 56,
     "metadata": {},
     "output_type": "execute_result"
    }
   ],
   "source": [
    "np12"
   ]
  },
  {
   "cell_type": "code",
   "execution_count": 57,
   "id": "8125339f",
   "metadata": {},
   "outputs": [],
   "source": [
    "np13 = np.genfromtxt('2317.TW.csv', delimiter=',', skip_header=1)"
   ]
  },
  {
   "cell_type": "code",
   "execution_count": 58,
   "id": "6f03e9f0",
   "metadata": {},
   "outputs": [
    {
     "data": {
      "text/plain": [
       "array([[          nan, 1.1412500e+02, 1.1475000e+02, ..., 1.1437500e+02,\n",
       "        9.3712265e+01, 2.3687200e+07],\n",
       "       [          nan, 1.1350000e+02, 1.1437500e+02, ..., 1.1437500e+02,\n",
       "        9.3712265e+01, 1.9390400e+07],\n",
       "       [          nan, 1.1462500e+02, 1.1462500e+02, ..., 1.1412500e+02,\n",
       "        9.3507431e+01, 1.3385600e+07],\n",
       "       ...,\n",
       "       [          nan, 1.0150000e+02, 1.0250000e+02, ..., 1.0150000e+02,\n",
       "        1.0150000e+02, 3.5941142e+07],\n",
       "       [          nan, 1.0350000e+02, 1.0450000e+02, ..., 1.0400000e+02,\n",
       "        1.0400000e+02, 4.3536754e+07],\n",
       "       [          nan, 1.0500000e+02, 1.0600000e+02, ..., 1.0600000e+02,\n",
       "        1.0600000e+02, 8.2056684e+07]])"
      ]
     },
     "execution_count": 58,
     "metadata": {},
     "output_type": "execute_result"
    }
   ],
   "source": [
    "np13"
   ]
  },
  {
   "cell_type": "code",
   "execution_count": 2,
   "id": "c246f50b",
   "metadata": {},
   "outputs": [
    {
     "name": "stdout",
     "output_type": "stream",
     "text": [
      "Requirement already satisfied: numpy in d:\\anaconda3\\envs\\dm\\lib\\site-packages (1.23.3)\n",
      "Note: you may need to restart the kernel to use updated packages.\n"
     ]
    }
   ],
   "source": [
    "pip install numpy"
   ]
  },
  {
   "cell_type": "code",
   "execution_count": 4,
   "id": "e38fd455",
   "metadata": {},
   "outputs": [
    {
     "name": "stdout",
     "output_type": "stream",
     "text": [
      "Collecting scipyNote: you may need to restart the kernel to use updated packages.\n",
      "\n",
      "  Downloading scipy-1.9.3-cp38-cp38-win_amd64.whl (39.8 MB)\n",
      "     ---------------------------------------- 39.8/39.8 MB 1.3 MB/s eta 0:00:00\n",
      "Requirement already satisfied: numpy<1.26.0,>=1.18.5 in d:\\anaconda3\\envs\\dm\\lib\\site-packages (from scipy) (1.23.3)\n",
      "Installing collected packages: scipy\n",
      "Successfully installed scipy-1.9.3\n"
     ]
    }
   ],
   "source": [
    "pip install scipy"
   ]
  },
  {
   "cell_type": "code",
   "execution_count": 13,
   "id": "7b5c9707",
   "metadata": {},
   "outputs": [
    {
     "name": "stdout",
     "output_type": "stream",
     "text": [
      "CALL or PUT:CALL\n",
      "Black-Scholes-Merton [EUROPEAN CALL] 選擇權價格 = 461.1712\n"
     ]
    }
   ],
   "source": [
    "import scipy.stats as st\n",
    "import numpy as np\n",
    "\n",
    "EU_AM = 'EUROPEAN'\n",
    "c_p = str(input(\"CALL or PUT:\"))\n",
    "\n",
    "S0: float = 16000       # 期初股價\n",
    "K: float = 16000        # 履約價\n",
    "T: float = 3 / 12       # 年化到期時間\n",
    "r: float = 0.012        # 無風險利率\n",
    "vol: float = 0.16       # 波動度\n",
    "q: float = 0.036        # 股利率\n",
    "\n",
    "\n",
    "def BSM_pricing(K: float):    \n",
    "    d1 = (np.log(S0 / K) + ((r - q) + vol ** 2 / 2) * T) / (vol * (T ** 0.5))\n",
    "    d2 = (np.log(S0 / K) + ((r - q) - vol ** 2 / 2) * T) / (vol * (T ** 0.5))\n",
    "    call_p = S0 * np.exp(-q * T) * st.norm.cdf(d1) - K * np.exp(-r * T) * st.norm.cdf(d2)\n",
    "    put_p  = K * np.exp(-r * T) * st.norm.cdf(-d2) - S0 * np.exp(-q * T) * st.norm.cdf(-d1)\n",
    "    if c_p == 'CALL':\n",
    "        return max(call_p, 0)\n",
    "    elif c_p == 'PUT':\n",
    "        return max(put_p, 0)\n",
    "    else:\n",
    "        raise ValueError('Wrong c_p.')\n",
    "        \n",
    "BSM_P = BSM_pricing(K)\n",
    "print('Black-Scholes-Merton [EUROPEAN CALL] 選擇權價格 = %1.4f' % BSM_P)"
   ]
  },
  {
   "cell_type": "code",
   "execution_count": 11,
   "id": "c842aaa4",
   "metadata": {},
   "outputs": [
    {
     "name": "stdout",
     "output_type": "stream",
     "text": [
      "15\n",
      "20\n"
     ]
    }
   ],
   "source": [
    "a = 20 #全域變數\n",
    "def F():\n",
    "    a = 5  #區域變數\n",
    "    b = 10\n",
    "    c = a + b\n",
    "    return(c)\n",
    "print(F())\n",
    "print(a)"
   ]
  }
 ],
 "metadata": {
  "kernelspec": {
   "display_name": "Python 3 (ipykernel)",
   "language": "python",
   "name": "python3"
  },
  "language_info": {
   "codemirror_mode": {
    "name": "ipython",
    "version": 3
   },
   "file_extension": ".py",
   "mimetype": "text/x-python",
   "name": "python",
   "nbconvert_exporter": "python",
   "pygments_lexer": "ipython3",
   "version": "3.8.13"
  }
 },
 "nbformat": 4,
 "nbformat_minor": 5
}
